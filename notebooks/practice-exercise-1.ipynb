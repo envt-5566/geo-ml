{
 "cells": [
  {
   "cell_type": "markdown",
   "id": "c2869a33-128c-4b7e-abfc-ecdfd828c370",
   "metadata": {},
   "source": [
    "# Practice exercise: Geospatial Machine Learning\n",
    "\n",
    "This is a short practice exercise for developing a machine learning model using `scikit-learn`. The task is to predict leaf area index (LAI) using predictor variables derived from a <a href=\"https://developers.google.com/earth-engine/datasets/catalog/COPERNICUS_S2_SR_HARMONIZED\" target=\"_blank\">Sentinel-2 satellite image</a> and topographic variables. The LAI measurements were derived from LiDAR data with a 30 cm spatial resolution and 15 cm vertical resolution averaged to a 10 m spatial resolution to match the size of Sentinel-2 pixels. \n",
    "\n",
    "LAI is a measure of the total area of leaves relative to the ground area and is an important biophysical variable for studying vegetation growth and functioning. The data we are using here were collected over the Marburg Forest in Germany and are from the paper by <a href=\"https://www.sciencedirect.com/science/article/abs/pii/S0304380019303230\" target=\"_blank\">Meyer et al. (2019)</a>."
   ]
  },
  {
   "cell_type": "markdown",
   "id": "842e18ab-9f66-47a3-b651-58975d82b70e",
   "metadata": {},
   "source": [
    "## Setup\n",
    "\n",
    "### Load data"
   ]
  },
  {
   "cell_type": "code",
   "execution_count": null,
   "id": "adb4dfdb-3d8c-42cc-83ca-597fd233f6a4",
   "metadata": {},
   "outputs": [],
   "source": [
    "import os\n",
    "import subprocess\n",
    "\n",
    "if \"data-geoml\" not in os.listdir(os.getcwd()):\n",
    "    subprocess.run('wget \"https://github.com/envt-5566/geo-ml/raw/main/data/data-geoml.zip\"', shell=True, capture_output=True, text=True)\n",
    "    subprocess.run('unzip \"data-geoml.zip\"', shell=True, capture_output=True, text=True)\n",
    "    if \"data-geoml.zip\" not in os.listdir(os.getcwd()):\n",
    "        print(\"Has a directory called data-geoml been downloaded and placed in your working directory? If not, try re-executing this code chunk\")\n",
    "    else:\n",
    "        print(\"Data download OK\")\n",
    "\n",
    "DATA_PATH = os.path.join(os.getcwd())"
   ]
  },
  {
   "cell_type": "markdown",
   "id": "c1504a9f-f8dc-4069-8a4c-e9f5f78091fc",
   "metadata": {},
   "source": [
    "### Load packages"
   ]
  },
  {
   "cell_type": "code",
   "execution_count": null,
   "id": "a269e90a-9611-4e01-9770-18dbadab66bd",
   "metadata": {},
   "outputs": [],
   "source": [
    "if 'google.colab' in str(get_ipython()):\n",
    "    !pip install mapclassify\n",
    "    !pip install contextily\n",
    "    !pip install pysal\n",
    "\n",
    "import os\n",
    "import math\n",
    "\n",
    "import numpy as np\n",
    "import pandas as pd\n",
    "import geopandas as gpd\n",
    "\n",
    "# spatial analysis libraries\n",
    "import pysal\n",
    "\n",
    "# plotting\n",
    "import seaborn as sns\n",
    "import contextily as cx\n",
    "import matplotlib.pyplot as plt\n",
    "\n",
    "# preprocessing\n",
    "from sklearn.model_selection import train_test_split\n",
    "from sklearn.preprocessing import StandardScaler\n",
    "\n",
    "# models\n",
    "from sklearn.neural_network import MLPRegressor\n",
    "from sklearn.cluster import KMeans\n",
    "\n",
    "# metrics\n",
    "from sklearn.metrics import mean_squared_error"
   ]
  },
  {
   "cell_type": "markdown",
   "id": "6ee3aace-4e1d-40a2-b09c-108a0cd99fb2",
   "metadata": {},
   "source": [
    "## Load data"
   ]
  },
  {
   "cell_type": "code",
   "execution_count": null,
   "id": "3ccef62c-d62e-42cc-940a-47979df5418e",
   "metadata": {},
   "outputs": [],
   "source": [
    "gdf = gpd.read_file(os.path.join(DATA_PATH, \"lai_meyer_et_al_2019_marburg.geojson\"))\n",
    "gdf = gdf.drop(columns=[\"field_1\", \"ID\", \"x_utm_25832\", \"y_utm_25832\"])\n",
    "gdf = gdf.to_crs(\"EPSG:4326\")"
   ]
  },
  {
   "cell_type": "code",
   "execution_count": null,
   "id": "85c4282c-adc4-4956-94dd-c3c205c3846a",
   "metadata": {},
   "outputs": [],
   "source": [
    "gdf.head()"
   ]
  },
  {
   "cell_type": "code",
   "execution_count": null,
   "id": "12350daf-b404-4f08-8628-da30902e9e34",
   "metadata": {},
   "outputs": [],
   "source": [
    "gdf.explore(column=\"LAI\")"
   ]
  },
  {
   "cell_type": "markdown",
   "id": "6c372c88-047e-4957-938e-bdc7209894ef",
   "metadata": {},
   "source": [
    "## Activity\n",
    "\n",
    "Predicting LAI is a machine learning regression task as LAI is a continuous numeric value. **Can you adapt the examples from previous notebooks to develop and evaluate a model that predicts LAI from spectral reflectance and topographic predictors?**\n",
    "\n",
    "You will need to consider:\n",
    "\n",
    "* What variables to drop before model training.\n",
    "* If you need to standardise the training and test data.\n",
    "* What metric you will use to evaluate the model.\n",
    "* How you will create training and test splits to evaluate the model (think about the spatial structure of your data)."
   ]
  },
  {
   "cell_type": "code",
   "execution_count": null,
   "id": "971cff21-924e-4d4d-a981-74d367fde6b8",
   "metadata": {},
   "outputs": [],
   "source": [
    "## ADD CODE HERE"
   ]
  },
  {
   "cell_type": "markdown",
   "id": "c58ca3f9-d676-4de3-8ccc-56333cbb1dc8",
   "metadata": {},
   "source": [
    "## Activity\n",
    "\n",
    "Consider the following questions and write about a paragraph in response.\n",
    "\n",
    "**Outline the rationale behind your strategy for creating training and test splits for model evaluation.**\n",
    "\n",
    "**Based on your current evaluation strategy, could you be confident in deploying your model to generate accurate LAI predictions for all of Germany? for all of Europe?**\n",
    "\n",
    "**You are tasked with generating a Germany-wide LAI map, outline a strategy for generating training and test data to support this task and describe why this strategy is suitable.**"
   ]
  }
 ],
 "metadata": {
  "kernelspec": {
   "display_name": "Python 3 (ipykernel)",
   "language": "python",
   "name": "python3"
  },
  "language_info": {
   "codemirror_mode": {
    "name": "ipython",
    "version": 3
   },
   "file_extension": ".py",
   "mimetype": "text/x-python",
   "name": "python",
   "nbconvert_exporter": "python",
   "pygments_lexer": "ipython3",
   "version": "3.11.7"
  }
 },
 "nbformat": 4,
 "nbformat_minor": 5
}
