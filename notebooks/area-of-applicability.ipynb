{
 "cells": [
  {
   "cell_type": "code",
   "execution_count": null,
   "id": "dd6f1b21-d846-4ce1-9c4b-38983e84654c",
   "metadata": {},
   "outputs": [],
   "source": []
  },
  {
   "cell_type": "code",
   "execution_count": null,
   "id": "4d87ed5f-6d4c-4e81-8cf3-c2fcd5a5039f",
   "metadata": {},
   "outputs": [],
   "source": [
    "def compute_aoa():\n",
    "    # generate k clusters\n",
    "\n",
    "    # compute DI for c in k clusters\n",
    "\n",
    "    # compute cv error for c in k clusters"
   ]
  },
  {
   "cell_type": "code",
   "execution_count": null,
   "id": "02ff5b30-c46d-4f1f-b0ff-defc97e35dec",
   "metadata": {},
   "outputs": [],
   "source": []
  },
  {
   "cell_type": "code",
   "execution_count": null,
   "id": "33dcdeff-efdb-444d-9e7e-4d016510deb7",
   "metadata": {},
   "outputs": [],
   "source": []
  }
 ],
 "metadata": {
  "kernelspec": {
   "display_name": "Python 3 (ipykernel)",
   "language": "python",
   "name": "python3"
  },
  "language_info": {
   "codemirror_mode": {
    "name": "ipython",
    "version": 3
   },
   "file_extension": ".py",
   "mimetype": "text/x-python",
   "name": "python",
   "nbconvert_exporter": "python",
   "pygments_lexer": "ipython3",
   "version": "3.11.7"
  }
 },
 "nbformat": 4,
 "nbformat_minor": 5
}
